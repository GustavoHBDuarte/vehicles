{
  "nbformat": 4,
  "nbformat_minor": 0,
  "metadata": {
    "colab": {
      "provenance": [],
      "toc_visible": true
    },
    "kernelspec": {
      "name": "ir",
      "display_name": "R"
    },
    "language_info": {
      "name": "R"
    }
  },
  "cells": [
    {
      "cell_type": "markdown",
      "source": [
        "https://towardsdatascience.com/cheat-sheet-for-python-dataframe-r-dataframe-syntax-conversions-450f656b44ca\n",
        "\n",
        "https://rviews.rstudio.com/2017/09/25/survival-analysis-with-r/\n",
        "\n",
        "Manipulação de datas em R: https://rpubs.com/phsg13/534878\n",
        "\n",
        "Manipulação de strings em R: https://www.gastonsanchez.com/r4strings/"
      ],
      "metadata": {
        "id": "HqUvUS69JmLe"
      }
    },
    {
      "cell_type": "markdown",
      "source": [
        "# 0.0 - Library Imports"
      ],
      "metadata": {
        "id": "2zJL9ZpLIFJn"
      }
    },
    {
      "cell_type": "code",
      "source": [
        "install.packages(\"fueleconomy\")"
      ],
      "metadata": {
        "colab": {
          "base_uri": "https://localhost:8080/"
        },
        "id": "bzor-ZNUvi78",
        "outputId": "1fb666d0-58d9-49ed-f050-ac8e2893340c"
      },
      "execution_count": 63,
      "outputs": [
        {
          "output_type": "stream",
          "name": "stderr",
          "text": [
            "Installing package into ‘/usr/local/lib/R/site-library’\n",
            "(as ‘lib’ is unspecified)\n",
            "\n"
          ]
        }
      ]
    },
    {
      "cell_type": "code",
      "execution_count": 64,
      "metadata": {
        "id": "V4GF8k4lCDnS"
      },
      "outputs": [],
      "source": [
        "library(dplyr, caret)\n",
        "\n",
        "library(fueleconomy)"
      ]
    },
    {
      "cell_type": "markdown",
      "source": [
        "# 1.0 - Loading & Checking Dataset"
      ],
      "metadata": {
        "id": "_--07JJkIO5t"
      }
    },
    {
      "cell_type": "markdown",
      "source": [
        "Descrição dos dados:\n",
        "\n",
        "* id: Um identificador único para cada veículo.\n",
        "\n",
        "* make: O fabricante do veículo.\n",
        "\n",
        "* model: O modelo específico do veículo.\n",
        "\n",
        "* year: O ano do veículo.\n",
        "\n",
        "* class: A classe do veículo (variável categórica o rdinal).\n",
        "\n",
        "* trans: O tipo de transmissão do veículo.\n",
        "\n",
        "* drive: O tipo de tração do veículo (por exemplo, d ianteira, traseira, integral).\n",
        "\n",
        "* cyl: O número de cilindros no motor do veículo.\n",
        "\n",
        "* displ: O deslocamento do motor do veículo em litros.\n",
        "\n",
        "* fuel: O tipo de combustível usado pelo veículo.\n",
        "* hwy: O consumo de combustível na estrada em MPG.\n",
        "\n",
        "* cty: O consumo de combustível na cidade em MPG."
      ],
      "metadata": {
        "id": "yMqwKD6GyuhH"
      }
    },
    {
      "cell_type": "code",
      "source": [
        "# Loading dataset\n",
        "\n",
        "data(vehicles)\n",
        "\n",
        "df <- data.frame(vehicles)\n",
        "\n",
        "head(df)\n"
      ],
      "metadata": {
        "colab": {
          "base_uri": "https://localhost:8080/",
          "height": 286
        },
        "id": "2JqbCsmnCqSn",
        "outputId": "bf82dedd-144b-426d-ed6f-4413ee106af5"
      },
      "execution_count": 65,
      "outputs": [
        {
          "output_type": "display_data",
          "data": {
            "text/html": [
              "<table class=\"dataframe\">\n",
              "<caption>A data.frame: 6 × 12</caption>\n",
              "<thead>\n",
              "\t<tr><th></th><th scope=col>id</th><th scope=col>make</th><th scope=col>model</th><th scope=col>year</th><th scope=col>class</th><th scope=col>trans</th><th scope=col>drive</th><th scope=col>cyl</th><th scope=col>displ</th><th scope=col>fuel</th><th scope=col>hwy</th><th scope=col>cty</th></tr>\n",
              "\t<tr><th></th><th scope=col>&lt;dbl&gt;</th><th scope=col>&lt;chr&gt;</th><th scope=col>&lt;chr&gt;</th><th scope=col>&lt;dbl&gt;</th><th scope=col>&lt;chr&gt;</th><th scope=col>&lt;chr&gt;</th><th scope=col>&lt;chr&gt;</th><th scope=col>&lt;dbl&gt;</th><th scope=col>&lt;dbl&gt;</th><th scope=col>&lt;chr&gt;</th><th scope=col>&lt;dbl&gt;</th><th scope=col>&lt;dbl&gt;</th></tr>\n",
              "</thead>\n",
              "<tbody>\n",
              "\t<tr><th scope=row>1</th><td>13309</td><td>Acura</td><td>2.2CL/3.0CL</td><td>1997</td><td>Subcompact Cars</td><td>Automatic 4-spd</td><td>Front-Wheel Drive</td><td>4</td><td>2.2</td><td>Regular</td><td>26</td><td>20</td></tr>\n",
              "\t<tr><th scope=row>2</th><td>13310</td><td>Acura</td><td>2.2CL/3.0CL</td><td>1997</td><td>Subcompact Cars</td><td>Manual 5-spd   </td><td>Front-Wheel Drive</td><td>4</td><td>2.2</td><td>Regular</td><td>28</td><td>22</td></tr>\n",
              "\t<tr><th scope=row>3</th><td>13311</td><td>Acura</td><td>2.2CL/3.0CL</td><td>1997</td><td>Subcompact Cars</td><td>Automatic 4-spd</td><td>Front-Wheel Drive</td><td>6</td><td>3.0</td><td>Regular</td><td>26</td><td>18</td></tr>\n",
              "\t<tr><th scope=row>4</th><td>14038</td><td>Acura</td><td>2.3CL/3.0CL</td><td>1998</td><td>Subcompact Cars</td><td>Automatic 4-spd</td><td>Front-Wheel Drive</td><td>4</td><td>2.3</td><td>Regular</td><td>27</td><td>19</td></tr>\n",
              "\t<tr><th scope=row>5</th><td>14039</td><td>Acura</td><td>2.3CL/3.0CL</td><td>1998</td><td>Subcompact Cars</td><td>Manual 5-spd   </td><td>Front-Wheel Drive</td><td>4</td><td>2.3</td><td>Regular</td><td>29</td><td>21</td></tr>\n",
              "\t<tr><th scope=row>6</th><td>14040</td><td>Acura</td><td>2.3CL/3.0CL</td><td>1998</td><td>Subcompact Cars</td><td>Automatic 4-spd</td><td>Front-Wheel Drive</td><td>6</td><td>3.0</td><td>Regular</td><td>26</td><td>17</td></tr>\n",
              "</tbody>\n",
              "</table>\n"
            ],
            "text/markdown": "\nA data.frame: 6 × 12\n\n| <!--/--> | id &lt;dbl&gt; | make &lt;chr&gt; | model &lt;chr&gt; | year &lt;dbl&gt; | class &lt;chr&gt; | trans &lt;chr&gt; | drive &lt;chr&gt; | cyl &lt;dbl&gt; | displ &lt;dbl&gt; | fuel &lt;chr&gt; | hwy &lt;dbl&gt; | cty &lt;dbl&gt; |\n|---|---|---|---|---|---|---|---|---|---|---|---|---|\n| 1 | 13309 | Acura | 2.2CL/3.0CL | 1997 | Subcompact Cars | Automatic 4-spd | Front-Wheel Drive | 4 | 2.2 | Regular | 26 | 20 |\n| 2 | 13310 | Acura | 2.2CL/3.0CL | 1997 | Subcompact Cars | Manual 5-spd    | Front-Wheel Drive | 4 | 2.2 | Regular | 28 | 22 |\n| 3 | 13311 | Acura | 2.2CL/3.0CL | 1997 | Subcompact Cars | Automatic 4-spd | Front-Wheel Drive | 6 | 3.0 | Regular | 26 | 18 |\n| 4 | 14038 | Acura | 2.3CL/3.0CL | 1998 | Subcompact Cars | Automatic 4-spd | Front-Wheel Drive | 4 | 2.3 | Regular | 27 | 19 |\n| 5 | 14039 | Acura | 2.3CL/3.0CL | 1998 | Subcompact Cars | Manual 5-spd    | Front-Wheel Drive | 4 | 2.3 | Regular | 29 | 21 |\n| 6 | 14040 | Acura | 2.3CL/3.0CL | 1998 | Subcompact Cars | Automatic 4-spd | Front-Wheel Drive | 6 | 3.0 | Regular | 26 | 17 |\n\n",
            "text/latex": "A data.frame: 6 × 12\n\\begin{tabular}{r|llllllllllll}\n  & id & make & model & year & class & trans & drive & cyl & displ & fuel & hwy & cty\\\\\n  & <dbl> & <chr> & <chr> & <dbl> & <chr> & <chr> & <chr> & <dbl> & <dbl> & <chr> & <dbl> & <dbl>\\\\\n\\hline\n\t1 & 13309 & Acura & 2.2CL/3.0CL & 1997 & Subcompact Cars & Automatic 4-spd & Front-Wheel Drive & 4 & 2.2 & Regular & 26 & 20\\\\\n\t2 & 13310 & Acura & 2.2CL/3.0CL & 1997 & Subcompact Cars & Manual 5-spd    & Front-Wheel Drive & 4 & 2.2 & Regular & 28 & 22\\\\\n\t3 & 13311 & Acura & 2.2CL/3.0CL & 1997 & Subcompact Cars & Automatic 4-spd & Front-Wheel Drive & 6 & 3.0 & Regular & 26 & 18\\\\\n\t4 & 14038 & Acura & 2.3CL/3.0CL & 1998 & Subcompact Cars & Automatic 4-spd & Front-Wheel Drive & 4 & 2.3 & Regular & 27 & 19\\\\\n\t5 & 14039 & Acura & 2.3CL/3.0CL & 1998 & Subcompact Cars & Manual 5-spd    & Front-Wheel Drive & 4 & 2.3 & Regular & 29 & 21\\\\\n\t6 & 14040 & Acura & 2.3CL/3.0CL & 1998 & Subcompact Cars & Automatic 4-spd & Front-Wheel Drive & 6 & 3.0 & Regular & 26 & 17\\\\\n\\end{tabular}\n",
            "text/plain": [
              "  id    make  model       year class           trans          \n",
              "1 13309 Acura 2.2CL/3.0CL 1997 Subcompact Cars Automatic 4-spd\n",
              "2 13310 Acura 2.2CL/3.0CL 1997 Subcompact Cars Manual 5-spd   \n",
              "3 13311 Acura 2.2CL/3.0CL 1997 Subcompact Cars Automatic 4-spd\n",
              "4 14038 Acura 2.3CL/3.0CL 1998 Subcompact Cars Automatic 4-spd\n",
              "5 14039 Acura 2.3CL/3.0CL 1998 Subcompact Cars Manual 5-spd   \n",
              "6 14040 Acura 2.3CL/3.0CL 1998 Subcompact Cars Automatic 4-spd\n",
              "  drive             cyl displ fuel    hwy cty\n",
              "1 Front-Wheel Drive 4   2.2   Regular 26  20 \n",
              "2 Front-Wheel Drive 4   2.2   Regular 28  22 \n",
              "3 Front-Wheel Drive 6   3.0   Regular 26  18 \n",
              "4 Front-Wheel Drive 4   2.3   Regular 27  19 \n",
              "5 Front-Wheel Drive 4   2.3   Regular 29  21 \n",
              "6 Front-Wheel Drive 6   3.0   Regular 26  17 "
            ]
          },
          "metadata": {}
        }
      ]
    },
    {
      "cell_type": "code",
      "source": [
        "# Data dimensions\n",
        "\n",
        "dim(df)"
      ],
      "metadata": {
        "colab": {
          "base_uri": "https://localhost:8080/",
          "height": 34
        },
        "id": "9n_nwBioozZW",
        "outputId": "8655bbfe-bc9e-42d7-bd0e-57ccf32a8f9b"
      },
      "execution_count": 66,
      "outputs": [
        {
          "output_type": "display_data",
          "data": {
            "text/html": [
              "<style>\n",
              ".list-inline {list-style: none; margin:0; padding: 0}\n",
              ".list-inline>li {display: inline-block}\n",
              ".list-inline>li:not(:last-child)::after {content: \"\\00b7\"; padding: 0 .5ex}\n",
              "</style>\n",
              "<ol class=list-inline><li>33442</li><li>12</li></ol>\n"
            ],
            "text/markdown": "1. 33442\n2. 12\n\n\n",
            "text/latex": "\\begin{enumerate*}\n\\item 33442\n\\item 12\n\\end{enumerate*}\n",
            "text/plain": [
              "[1] 33442    12"
            ]
          },
          "metadata": {}
        }
      ]
    },
    {
      "cell_type": "code",
      "source": [
        "# Data dimensions\n",
        "\n",
        "paste(\"O numero de linhas é:\", dim(df)[1])\n",
        "\n",
        "paste(\"O numero de colunas é:\", dim(df)[2])"
      ],
      "metadata": {
        "colab": {
          "base_uri": "https://localhost:8080/",
          "height": 52
        },
        "id": "01CmFOM3Ir03",
        "outputId": "50f30f90-2c1f-4535-bd30-2c397298b480"
      },
      "execution_count": 67,
      "outputs": [
        {
          "output_type": "display_data",
          "data": {
            "text/html": [
              "'O numero de linhas é: 33442'"
            ],
            "text/markdown": "'O numero de linhas é: 33442'",
            "text/latex": "'O numero de linhas é: 33442'",
            "text/plain": [
              "[1] \"O numero de linhas é: 33442\""
            ]
          },
          "metadata": {}
        },
        {
          "output_type": "display_data",
          "data": {
            "text/html": [
              "'O numero de colunas é: 12'"
            ],
            "text/markdown": "'O numero de colunas é: 12'",
            "text/latex": "'O numero de colunas é: 12'",
            "text/plain": [
              "[1] \"O numero de colunas é: 12\""
            ]
          },
          "metadata": {}
        }
      ]
    },
    {
      "cell_type": "code",
      "source": [
        "sprintf(\" O número de linhas é: %s\", dim(df)[1])\n",
        "\n",
        "sprintf(\" O número de colunas é: %s\", dim(df)[2])"
      ],
      "metadata": {
        "colab": {
          "base_uri": "https://localhost:8080/",
          "height": 52
        },
        "id": "GOK8bfelLMn7",
        "outputId": "7d15ca12-4fdd-417a-984d-78d52608871c"
      },
      "execution_count": 68,
      "outputs": [
        {
          "output_type": "display_data",
          "data": {
            "text/html": [
              "' O número de linhas é: 33442'"
            ],
            "text/markdown": "' O número de linhas é: 33442'",
            "text/latex": "' O número de linhas é: 33442'",
            "text/plain": [
              "[1] \" O número de linhas é: 33442\""
            ]
          },
          "metadata": {}
        },
        {
          "output_type": "display_data",
          "data": {
            "text/html": [
              "' O número de colunas é: 12'"
            ],
            "text/markdown": "' O número de colunas é: 12'",
            "text/latex": "' O número de colunas é: 12'",
            "text/plain": [
              "[1] \" O número de colunas é: 12\""
            ]
          },
          "metadata": {}
        }
      ]
    },
    {
      "cell_type": "code",
      "source": [
        "# Data types\n",
        "\n",
        "df_dtypes <- data.frame(sapply(df, typeof))\n",
        "\n",
        "df_dtypes <- rename(df_dtypes, c('data_type'='sapply.df..typeof.')) # renomear coluna do dataframe\n",
        "\n",
        "df_dtypes"
      ],
      "metadata": {
        "colab": {
          "base_uri": "https://localhost:8080/",
          "height": 474
        },
        "id": "UcI6S1XIMIZR",
        "outputId": "9b518483-8704-48c8-da94-19f1d8957e9a"
      },
      "execution_count": 69,
      "outputs": [
        {
          "output_type": "display_data",
          "data": {
            "text/html": [
              "<table class=\"dataframe\">\n",
              "<caption>A data.frame: 12 × 1</caption>\n",
              "<thead>\n",
              "\t<tr><th></th><th scope=col>data_type</th></tr>\n",
              "\t<tr><th></th><th scope=col>&lt;chr&gt;</th></tr>\n",
              "</thead>\n",
              "<tbody>\n",
              "\t<tr><th scope=row>id</th><td>double   </td></tr>\n",
              "\t<tr><th scope=row>make</th><td>character</td></tr>\n",
              "\t<tr><th scope=row>model</th><td>character</td></tr>\n",
              "\t<tr><th scope=row>year</th><td>double   </td></tr>\n",
              "\t<tr><th scope=row>class</th><td>character</td></tr>\n",
              "\t<tr><th scope=row>trans</th><td>character</td></tr>\n",
              "\t<tr><th scope=row>drive</th><td>character</td></tr>\n",
              "\t<tr><th scope=row>cyl</th><td>double   </td></tr>\n",
              "\t<tr><th scope=row>displ</th><td>double   </td></tr>\n",
              "\t<tr><th scope=row>fuel</th><td>character</td></tr>\n",
              "\t<tr><th scope=row>hwy</th><td>double   </td></tr>\n",
              "\t<tr><th scope=row>cty</th><td>double   </td></tr>\n",
              "</tbody>\n",
              "</table>\n"
            ],
            "text/markdown": "\nA data.frame: 12 × 1\n\n| <!--/--> | data_type &lt;chr&gt; |\n|---|---|\n| id | double    |\n| make | character |\n| model | character |\n| year | double    |\n| class | character |\n| trans | character |\n| drive | character |\n| cyl | double    |\n| displ | double    |\n| fuel | character |\n| hwy | double    |\n| cty | double    |\n\n",
            "text/latex": "A data.frame: 12 × 1\n\\begin{tabular}{r|l}\n  & data\\_type\\\\\n  & <chr>\\\\\n\\hline\n\tid & double   \\\\\n\tmake & character\\\\\n\tmodel & character\\\\\n\tyear & double   \\\\\n\tclass & character\\\\\n\ttrans & character\\\\\n\tdrive & character\\\\\n\tcyl & double   \\\\\n\tdispl & double   \\\\\n\tfuel & character\\\\\n\thwy & double   \\\\\n\tcty & double   \\\\\n\\end{tabular}\n",
            "text/plain": [
              "      data_type\n",
              "id    double   \n",
              "make  character\n",
              "model character\n",
              "year  double   \n",
              "class character\n",
              "trans character\n",
              "drive character\n",
              "cyl   double   \n",
              "displ double   \n",
              "fuel  character\n",
              "hwy   double   \n",
              "cty   double   "
            ]
          },
          "metadata": {}
        }
      ]
    },
    {
      "cell_type": "code",
      "source": [
        "# Verificando NA's\n",
        "\n",
        "sum(is.na(df))\n"
      ],
      "metadata": {
        "colab": {
          "base_uri": "https://localhost:8080/",
          "height": 34
        },
        "id": "bdiDXR1X3Uzk",
        "outputId": "d54ae9bb-dacf-46ee-cd7d-83f0a90cb85c"
      },
      "execution_count": 70,
      "outputs": [
        {
          "output_type": "display_data",
          "data": {
            "text/html": [
              "123"
            ],
            "text/markdown": "123",
            "text/latex": "123",
            "text/plain": [
              "[1] 123"
            ]
          },
          "metadata": {}
        }
      ]
    },
    {
      "cell_type": "code",
      "source": [
        "# Valores faltantes\n",
        "\n",
        "data.frame(colSums(is.na(df)))"
      ],
      "metadata": {
        "colab": {
          "base_uri": "https://localhost:8080/",
          "height": 474
        },
        "id": "2vUSP98-8K5I",
        "outputId": "bfcc91d0-c1ed-4183-8ed3-b7311112a514"
      },
      "execution_count": 71,
      "outputs": [
        {
          "output_type": "display_data",
          "data": {
            "text/html": [
              "<table class=\"dataframe\">\n",
              "<caption>A data.frame: 12 × 1</caption>\n",
              "<thead>\n",
              "\t<tr><th></th><th scope=col>colSums.is.na.df..</th></tr>\n",
              "\t<tr><th></th><th scope=col>&lt;dbl&gt;</th></tr>\n",
              "</thead>\n",
              "<tbody>\n",
              "\t<tr><th scope=row>id</th><td> 0</td></tr>\n",
              "\t<tr><th scope=row>make</th><td> 0</td></tr>\n",
              "\t<tr><th scope=row>model</th><td> 0</td></tr>\n",
              "\t<tr><th scope=row>year</th><td> 0</td></tr>\n",
              "\t<tr><th scope=row>class</th><td> 0</td></tr>\n",
              "\t<tr><th scope=row>trans</th><td> 8</td></tr>\n",
              "\t<tr><th scope=row>drive</th><td> 0</td></tr>\n",
              "\t<tr><th scope=row>cyl</th><td>58</td></tr>\n",
              "\t<tr><th scope=row>displ</th><td>57</td></tr>\n",
              "\t<tr><th scope=row>fuel</th><td> 0</td></tr>\n",
              "\t<tr><th scope=row>hwy</th><td> 0</td></tr>\n",
              "\t<tr><th scope=row>cty</th><td> 0</td></tr>\n",
              "</tbody>\n",
              "</table>\n"
            ],
            "text/markdown": "\nA data.frame: 12 × 1\n\n| <!--/--> | colSums.is.na.df.. &lt;dbl&gt; |\n|---|---|\n| id |  0 |\n| make |  0 |\n| model |  0 |\n| year |  0 |\n| class |  0 |\n| trans |  8 |\n| drive |  0 |\n| cyl | 58 |\n| displ | 57 |\n| fuel |  0 |\n| hwy |  0 |\n| cty |  0 |\n\n",
            "text/latex": "A data.frame: 12 × 1\n\\begin{tabular}{r|l}\n  & colSums.is.na.df..\\\\\n  & <dbl>\\\\\n\\hline\n\tid &  0\\\\\n\tmake &  0\\\\\n\tmodel &  0\\\\\n\tyear &  0\\\\\n\tclass &  0\\\\\n\ttrans &  8\\\\\n\tdrive &  0\\\\\n\tcyl & 58\\\\\n\tdispl & 57\\\\\n\tfuel &  0\\\\\n\thwy &  0\\\\\n\tcty &  0\\\\\n\\end{tabular}\n",
            "text/plain": [
              "      colSums.is.na.df..\n",
              "id     0                \n",
              "make   0                \n",
              "model  0                \n",
              "year   0                \n",
              "class  0                \n",
              "trans  8                \n",
              "drive  0                \n",
              "cyl   58                \n",
              "displ 57                \n",
              "fuel   0                \n",
              "hwy    0                \n",
              "cty    0                "
            ]
          },
          "metadata": {}
        }
      ]
    },
    {
      "cell_type": "code",
      "source": [
        "# Valores faltantes: print via loop for\n",
        "\n",
        "cat('Number of missing:\\n')\n",
        "\n",
        "for (i in seq(1:length(colnames(df)))){\n",
        "    print(sprintf(\"%s: %s\", colnames(df)[i],sum(is.na(df[,i]))))\n",
        "    }"
      ],
      "metadata": {
        "colab": {
          "base_uri": "https://localhost:8080/"
        },
        "id": "pb43VyYY46-V",
        "outputId": "3e3ea96d-5c24-4b91-ca2a-f0f449e6e425"
      },
      "execution_count": 72,
      "outputs": [
        {
          "output_type": "stream",
          "name": "stdout",
          "text": [
            "Number of missing:\n",
            "[1] \"id: 0\"\n",
            "[1] \"make: 0\"\n",
            "[1] \"model: 0\"\n",
            "[1] \"year: 0\"\n",
            "[1] \"class: 0\"\n",
            "[1] \"trans: 8\"\n",
            "[1] \"drive: 0\"\n",
            "[1] \"cyl: 58\"\n",
            "[1] \"displ: 57\"\n",
            "[1] \"fuel: 0\"\n",
            "[1] \"hwy: 0\"\n",
            "[1] \"cty: 0\"\n"
          ]
        }
      ]
    },
    {
      "cell_type": "code",
      "source": [
        "# % de missing\n",
        "\n",
        "data.frame(colSums(is.na(df)/dim(df)[1]))"
      ],
      "metadata": {
        "colab": {
          "base_uri": "https://localhost:8080/",
          "height": 474
        },
        "id": "XbpSYccGWA76",
        "outputId": "ee0e3a06-9831-4d72-8ae2-1514bea795ea"
      },
      "execution_count": 73,
      "outputs": [
        {
          "output_type": "display_data",
          "data": {
            "text/html": [
              "<table class=\"dataframe\">\n",
              "<caption>A data.frame: 12 × 1</caption>\n",
              "<thead>\n",
              "\t<tr><th></th><th scope=col>colSums.is.na.df..dim.df..1..</th></tr>\n",
              "\t<tr><th></th><th scope=col>&lt;dbl&gt;</th></tr>\n",
              "</thead>\n",
              "<tbody>\n",
              "\t<tr><th scope=row>id</th><td>0.0000000000</td></tr>\n",
              "\t<tr><th scope=row>make</th><td>0.0000000000</td></tr>\n",
              "\t<tr><th scope=row>model</th><td>0.0000000000</td></tr>\n",
              "\t<tr><th scope=row>year</th><td>0.0000000000</td></tr>\n",
              "\t<tr><th scope=row>class</th><td>0.0000000000</td></tr>\n",
              "\t<tr><th scope=row>trans</th><td>0.0002392201</td></tr>\n",
              "\t<tr><th scope=row>drive</th><td>0.0000000000</td></tr>\n",
              "\t<tr><th scope=row>cyl</th><td>0.0017343460</td></tr>\n",
              "\t<tr><th scope=row>displ</th><td>0.0017044435</td></tr>\n",
              "\t<tr><th scope=row>fuel</th><td>0.0000000000</td></tr>\n",
              "\t<tr><th scope=row>hwy</th><td>0.0000000000</td></tr>\n",
              "\t<tr><th scope=row>cty</th><td>0.0000000000</td></tr>\n",
              "</tbody>\n",
              "</table>\n"
            ],
            "text/markdown": "\nA data.frame: 12 × 1\n\n| <!--/--> | colSums.is.na.df..dim.df..1.. &lt;dbl&gt; |\n|---|---|\n| id | 0.0000000000 |\n| make | 0.0000000000 |\n| model | 0.0000000000 |\n| year | 0.0000000000 |\n| class | 0.0000000000 |\n| trans | 0.0002392201 |\n| drive | 0.0000000000 |\n| cyl | 0.0017343460 |\n| displ | 0.0017044435 |\n| fuel | 0.0000000000 |\n| hwy | 0.0000000000 |\n| cty | 0.0000000000 |\n\n",
            "text/latex": "A data.frame: 12 × 1\n\\begin{tabular}{r|l}\n  & colSums.is.na.df..dim.df..1..\\\\\n  & <dbl>\\\\\n\\hline\n\tid & 0.0000000000\\\\\n\tmake & 0.0000000000\\\\\n\tmodel & 0.0000000000\\\\\n\tyear & 0.0000000000\\\\\n\tclass & 0.0000000000\\\\\n\ttrans & 0.0002392201\\\\\n\tdrive & 0.0000000000\\\\\n\tcyl & 0.0017343460\\\\\n\tdispl & 0.0017044435\\\\\n\tfuel & 0.0000000000\\\\\n\thwy & 0.0000000000\\\\\n\tcty & 0.0000000000\\\\\n\\end{tabular}\n",
            "text/plain": [
              "      colSums.is.na.df..dim.df..1..\n",
              "id    0.0000000000                 \n",
              "make  0.0000000000                 \n",
              "model 0.0000000000                 \n",
              "year  0.0000000000                 \n",
              "class 0.0000000000                 \n",
              "trans 0.0002392201                 \n",
              "drive 0.0000000000                 \n",
              "cyl   0.0017343460                 \n",
              "displ 0.0017044435                 \n",
              "fuel  0.0000000000                 \n",
              "hwy   0.0000000000                 \n",
              "cty   0.0000000000                 "
            ]
          },
          "metadata": {}
        }
      ]
    },
    {
      "cell_type": "code",
      "source": [
        "# Linhas duplicadas\n",
        "\n",
        "sum(duplicated(df))"
      ],
      "metadata": {
        "id": "GZbZKEBCG99G",
        "colab": {
          "base_uri": "https://localhost:8080/",
          "height": 34
        },
        "outputId": "11c21a0f-4d80-4b72-ef8f-262cf1000a2f"
      },
      "execution_count": 74,
      "outputs": [
        {
          "output_type": "display_data",
          "data": {
            "text/html": [
              "0"
            ],
            "text/markdown": "0",
            "text/latex": "0",
            "text/plain": [
              "[1] 0"
            ]
          },
          "metadata": {}
        }
      ]
    },
    {
      "cell_type": "markdown",
      "source": [
        "# 2.0 - Data handling"
      ],
      "metadata": {
        "id": "7OBzvusZGr3S"
      }
    },
    {
      "cell_type": "code",
      "source": [
        "# Dropar NA's\n",
        "\n",
        "## temos poucos missing, então dropar as linhas\n",
        "\n",
        "df <- unique(df)"
      ],
      "metadata": {
        "id": "AlVnPjSwvl0G"
      },
      "execution_count": 75,
      "outputs": []
    },
    {
      "cell_type": "code",
      "source": [
        "# Adjusting data types\n",
        "\n",
        "\n",
        "# \"year\": ano como fator ordenado\n",
        "df$year <- factor(as.integer(df$year), ordered = TRUE, levels = c(sort(unique(df$year))))\n",
        "\n",
        "# \"class\": fator ordenado da classe do veículo -> do menor para o maior tamanho\n",
        "df$class <- factor(df$class, ordered = TRUE,\n",
        "                  levels = c(\"Subcompact Cars\", \"Minicompact Cars\", \"Small Station Wagons\",\n",
        "                             \"Vans, Cargo Type\", \"Vans, Passenger Type\", \"Standard Pickup Trucks 2WD\",\n",
        "                             \"Standard Pickup Trucks/2wd\", \"Small Pickup Trucks 2WD\",\n",
        "                             \"Standard Pickup Trucks 4WD\", \"Small Pickup Trucks 4WD\",\n",
        "                             \"Special Purpose Vehicles/2wd\", \"Special Purpose Vehicles/4wd\",\n",
        "                             \"Two Seaters\", \"Special Purpose Vehicle 2WD\", \"Midsize-Large Station Wagons\",\n",
        "                             \"Midsize Station Wagons\", \"Large Cars\", \"Sport Utility Vehicle - 4WD\",\n",
        "                             \"Small Sport Utility Vehicle 2WD\", \"Small Sport Utility Vehicle 4WD\",\n",
        "                             \"Standard Sport Utility Vehicle 2WD\", \"Standard Sport Utility Vehicle 4WD\",\n",
        "                             \"Vans Passenger\", \"Special Purpose Vehicle\")  )\n",
        "\n",
        "# \"trans\" (transmissão) -> ordenado do menor para a maior quantidade de marchas\n",
        "# LEMBRETE: FAZER O FEATURE ENGINEERING A PARTIR DA COLUNA TRANS EXTRAINDO MANUAL OU AUT DO CAMBIO\n",
        "df$trans <- factor(df$trans, ordered = TRUE,\n",
        "                  levels = c(\"Manual 3-spd\", \"Automatic 3-spd\", \"Manual 4-spd\", \"Automatic 4-spd\",\n",
        "                             \"Manual 5-spd\", \"Automatic (S4)\", \"Automatic (AM5)\", \"Automatic (L3)\",\n",
        "                             \"Automatic (AM-S6)\", \"Automatic (A1)\", \"Automatic (AV)\"))\n",
        "\n",
        "\n",
        "# \"drive\" (tração) -> odenado por complexidade do sistema de tração\n",
        "df$drive <- factor(df$drive, ordered = TRUE,\n",
        "                  levels = c(\"2-Wheel Drive\", \"Front-Wheel Drive\", \"Rear-Wheel Drive\",\n",
        "                             \"4-Wheel Drive\", \"All-Wheel Drive\", \"4-Wheel or All-Wheel Drive\",\n",
        "                             \"Part-time 4-Wheel Drive\"))\n",
        "\n",
        "\n",
        "# \"fuel\" (combustível) -> será ordenado do menor para o maior consumo de combustível\n",
        "df$fuel <- factor(df$fuel, ordered = TRUE,\n",
        "                  levels = c(\"Regular\", \"Midgrade\", \"Premium\", \"Premium or E85\",\n",
        "                             \"Gasoline or E85\", \"Premium Gas or Electricity\",\n",
        "                             \"Gasoline or natural gas\", \"CNG\",\"Regular Gas and Electricity\",\n",
        "                             \"Gasoline or propane\", \"Premium and Electricity\", \"Diesel\"))\n",
        "\n",
        "# \"make\" -> fator\n",
        "df$make <- factor(df$make)\n",
        "\n",
        "# \"model\" -> fator\n",
        "df$model <- factor(df$model)\n",
        "\n",
        "# \"cyl\" -> integer\n",
        "df$cyl <- as.integer(df$cyl)\n",
        "\n",
        "# \"hwy\" -> integer\n",
        "df$hwy <- as.integer(df$hwy)\n",
        "\n",
        "# \"cty\" -> integer\n",
        "df$cty <- as.integer(df$cty)"
      ],
      "metadata": {
        "id": "aQXjgsCG8xxI"
      },
      "execution_count": 76,
      "outputs": []
    },
    {
      "cell_type": "code",
      "source": [
        "summary(df)"
      ],
      "metadata": {
        "colab": {
          "base_uri": "https://localhost:8080/",
          "height": 573
        },
        "id": "pvnVUvBEVPzR",
        "outputId": "fd83d993-a3fc-4067-8310-653fbe56ca47"
      },
      "execution_count": 78,
      "outputs": [
        {
          "output_type": "display_data",
          "data": {
            "text/plain": [
              "       id               make                     model            year      \n",
              " Min.   :    1   Chevrolet: 3458   F150 Pickup 2WD  :  201   1985   : 1699  \n",
              " 1st Qu.: 8346   Ford     : 2796   Truck 2WD        :  187   1987   : 1247  \n",
              " Median :16694   Dodge    : 2349   F150 Pickup 4WD  :  180   1986   : 1209  \n",
              " Mean   :17013   GMC      : 2264   Ranger Pickup 2WD:  164   2014   : 1202  \n",
              " 3rd Qu.:25226   Toyota   : 1720   Mustang          :  154   2008   : 1186  \n",
              " Max.   :34932   BMW      : 1394   Jetta            :  150   2009   : 1184  \n",
              "                 (Other)  :19401   (Other)          :32346   (Other):25655  \n",
              "                         class                   trans      \n",
              " Subcompact Cars            : 4176   Automatic 4-spd:10771  \n",
              " Sport Utility Vehicle - 4WD: 2091   Manual 5-spd   : 7855  \n",
              " Two Seaters                : 1595   Automatic 3-spd: 2720  \n",
              " Large Cars                 : 1527   Manual 4-spd   : 1368  \n",
              " Small Station Wagons       : 1293   Automatic (S4) :  232  \n",
              " (Other)                    : 6605   (Other)        :   84  \n",
              " NA's                       :16095   NA's           :10352  \n",
              "                        drive            cyl             displ      \n",
              " 2-Wheel Drive             :  491   Min.   : 2.000   Min.   :0.000  \n",
              " Front-Wheel Drive         :12208   1st Qu.: 4.000   1st Qu.:2.300  \n",
              " Rear-Wheel Drive          :11976   Median : 6.000   Median :3.000  \n",
              " 4-Wheel Drive             :  697   Mean   : 5.772   Mean   :3.353  \n",
              " All-Wheel Drive           : 1267   3rd Qu.: 6.000   3rd Qu.:4.300  \n",
              " 4-Wheel or All-Wheel Drive: 6647   Max.   :16.000   Max.   :8.400  \n",
              " Part-time 4-Wheel Drive   :   96                                   \n",
              "              fuel            hwy             cty       \n",
              " Regular        :22617   Min.   : 9.00   Min.   : 6.00  \n",
              " Premium        : 8617   1st Qu.:19.00   1st Qu.:15.00  \n",
              " Gasoline or E85: 1043   Median :23.00   Median :17.00  \n",
              " Diesel         :  874   Mean   :23.46   Mean   :17.37  \n",
              " Premium or E85 :   88   3rd Qu.:27.00   3rd Qu.:20.00  \n",
              " CNG            :   58   Max.   :61.00   Max.   :53.00  \n",
              " (Other)        :   85                                  "
            ]
          },
          "metadata": {}
        }
      ]
    },
    {
      "cell_type": "code",
      "source": [
        "# pedir para o Bard sugestões de feature engineering com esse conjunto de dados"
      ],
      "metadata": {
        "id": "UME_gh2yFn82"
      },
      "execution_count": null,
      "outputs": []
    },
    {
      "cell_type": "markdown",
      "source": [
        "# 3.0 EDA"
      ],
      "metadata": {
        "id": "8y7PUUIfG8PX"
      }
    },
    {
      "cell_type": "code",
      "source": [
        "# usar ggplot 2 nas visualizações\n",
        "\n",
        "# fazer boxplots (das categorias em drive usando o consumo)\n",
        "\n",
        "# fazer scatterplot (gráfico de pontos) Ano X Consumo de combustível\n",
        "\n",
        "# fazer um heatmap de correlações para as variáveis numéricas\n",
        "\n",
        "# fazer o heatmap de correlação de variáveis categóricas\n",
        "\n",
        "# procurar o equivalente do seaborn pairplot no R"
      ],
      "metadata": {
        "id": "97z8hzBGU56Z"
      },
      "execution_count": null,
      "outputs": []
    },
    {
      "cell_type": "code",
      "source": [
        "hist(df$hwy)"
      ],
      "metadata": {
        "colab": {
          "base_uri": "https://localhost:8080/",
          "height": 437
        },
        "id": "L9DwOk6xU9jU",
        "outputId": "f3e0d3a1-e670-45d7-f346-991c97d5d320"
      },
      "execution_count": null,
      "outputs": [
        {
          "output_type": "display_data",
          "data": {
            "text/plain": [
              "Plot with title “Histogram of df$hwy”"
            ],
            "image/png": "[encoded data removed]"
          },
          "metadata": {
            "image/png": {
              "width": 420,
              "height": 420
            }
          }
        }
      ]
    },
    {
      "cell_type": "markdown",
      "source": [
        "# 4.0 Data preparation"
      ],
      "metadata": {
        "id": "fFsVN1jFHBQb"
      }
    },
    {
      "cell_type": "code",
      "source": [
        "# renomear colunas para o português (para praticar o comando de renomear)\n",
        "\n",
        "# fazer o split de treino e teste usando o caret\n",
        "\n",
        "# utilizar os scalers do pacote caret"
      ],
      "metadata": {
        "id": "yZdGTxteLZ8V"
      },
      "execution_count": null,
      "outputs": []
    },
    {
      "cell_type": "code",
      "source": [
        "# ============ Split de treino e teste do caret ==================\n",
        "\n",
        "\n",
        "## Crie um dataframe\n",
        "#df <- data.frame(\n",
        "#  id = c(1, 2, 3, 4, 5),\n",
        "#  x = c(1, 2, 3, 4, 5),\n",
        "#  y = c(6, 7, 8, 9, 10)\n",
        "#)\n",
        "#\n",
        "## Divida os dados em treino e teste\n",
        "#trainIndex <- createDataPartition(df$y, p = 0.75, list = FALSE)\n",
        "#\n",
        "## Crie os conjuntos de treino e teste\n",
        "#trainSet <- df[trainIndex,]\n",
        "#testSet <- df[-trainIndex,]\n",
        "#"
      ],
      "metadata": {
        "id": "EhFgUI1zUSi0"
      },
      "execution_count": null,
      "outputs": []
    },
    {
      "cell_type": "markdown",
      "source": [
        "# 5.0 Modeling"
      ],
      "metadata": {
        "id": "qPE8ZYJ_HLzR"
      }
    },
    {
      "cell_type": "code",
      "source": [
        "# aplicar diferentes algoritmos de regressão\n",
        "\n",
        "# avaliar as metricas MAPE, RMSE e R2\n",
        "\n",
        "# utilizar valores de SHAP"
      ],
      "metadata": {
        "id": "aKmGrVXy8yQ1"
      },
      "execution_count": null,
      "outputs": []
    },
    {
      "cell_type": "code",
      "source": [],
      "metadata": {
        "id": "W8sT2HIU-jol"
      },
      "execution_count": null,
      "outputs": []
    },
    {
      "cell_type": "code",
      "source": [],
      "metadata": {
        "id": "TyK_P--v-kCL"
      },
      "execution_count": null,
      "outputs": []
    },
    {
      "cell_type": "code",
      "source": [],
      "metadata": {
        "id": "m5KsYOyM-kIF"
      },
      "execution_count": null,
      "outputs": []
    },
    {
      "cell_type": "code",
      "source": [
        "# Exemplo -> value_counts() do Python no R\n",
        "\n",
        "table(df$Petal.Width)"
      ],
      "metadata": {
        "colab": {
          "base_uri": "https://localhost:8080/",
          "height": 104
        },
        "id": "qZ8TqjAxEbOc",
        "outputId": "5a06bb8b-f727-4b83-f0b4-e0a46ee63f1b"
      },
      "execution_count": null,
      "outputs": [
        {
          "output_type": "display_data",
          "data": {
            "text/plain": [
              "\n",
              "0.1 0.2 0.3 0.4 0.5 0.6   1 1.1 1.2 1.3 1.4 1.5 1.6 1.7 1.8 1.9   2 2.1 2.2 2.3 \n",
              "  5  29   7   7   1   1   7   3   5  13   8  12   4   2  12   5   6   6   3   8 \n",
              "2.4 2.5 \n",
              "  3   3 "
            ]
          },
          "metadata": {}
        }
      ]
    },
    {
      "cell_type": "code",
      "source": [
        "hist(df$Petal.Length)"
      ],
      "metadata": {
        "colab": {
          "base_uri": "https://localhost:8080/",
          "height": 437
        },
        "id": "BKTfeSxfE7jq",
        "outputId": "bf5b73bc-dde4-4f50-94cc-f93af200178f"
      },
      "execution_count": null,
      "outputs": [
        {
          "output_type": "display_data",
          "data": {
            "text/plain": [
              "Plot with title “Histogram of df$Petal.Length”"
            ],
            "image/png": "[encoded data removed]"
          },
          "metadata": {
            "image/png": {
              "width": 420,
              "height": 420
            }
          }
        }
      ]
    },
    {
      "cell_type": "markdown",
      "source": [
        "# Anotações"
      ],
      "metadata": {
        "id": "gfbI6RRH0bNS"
      }
    },
    {
      "cell_type": "markdown",
      "source": [
        "Existem várias oportunidades interessantes de projetos de ciência de dados que você pode explorar com o conjunto de dados \"vehicles\" do pacote \"fueleconomy\". Aqui estão algumas sugestões:\n",
        "\n",
        "* Predição de Consumo de Combustível: Crie um modelo de regressão para prever o consumo de combustível de um veículo com base em suas características, como ano, classe, número de cilindros, deslocamento do motor, tipo de combustível, etc. Isso pode ajudar os consumidores a entenderem melhor o consumo de combustível de um veículo antes da compra.\n",
        "\n",
        "* Classificação de Classe de Veículo: Desenvolva um modelo de classificação para prever a classe de um veículo com base em seus atributos, como ano, tipo de transmissão, tração, número de cilindros, etc. Isso pode ajudar a categorizar os veículos de forma automática.\n",
        "\n",
        "* Predição de Emissões de CO2: Crie um modelo de regressão para prever as emissões de CO2 de um veículo com base em suas características. Isso pode ser útil para entender as emissões de veículos diferentes e seu impacto ambiental.\n",
        "\n",
        "* Análise de Eficiência de Combustível ao Longo do Tempo: Explore como a eficiência de combustível de diferentes classes de veículos mudou ao longo dos anos. Isso pode envolver a criação de gráficos de tendência e análises estatísticas.\n",
        "\n",
        "* Comparação de Consumo de Combustível entre Tipos de Transmissão: Compare o consumo de combustível entre diferentes tipos de transmissão (automática, manual, etc.) para determinar se há uma diferença significativa na eficiência de combustível.\n",
        "\n",
        "* Clusterização de Veículos por Eficiência de Combustível: Use algoritmos de clusterização para agrupar veículos com base em sua eficiência de combustível. Isso pode revelar padrões interessantes de grupos de veículos com características semelhantes de consumo de combustível.\n",
        "\n",
        "* Previsão de Valor Econômico de Veículos Usados: Crie um modelo para prever o valor econômico de veículos usados com base em suas características e eficiência de combustível. Isso pode ser útil para compradores e vendedores de carros usados.\n",
        "\n",
        "* Lembre-se de que, ao realizar qualquer projeto de ciência de dados, é importante seguir um processo sistemático, incluindo a preparação de dados, a seleção de recursos relevantes, a criação de modelos, a avaliação e a interpretação dos resultados. Além disso, mantenha-se atualizado com as boas práticas de machine learning e ética na ciência de dad"
      ],
      "metadata": {
        "id": "PDkS1YHh0cWB"
      }
    },
    {
      "cell_type": "markdown",
      "source": [
        "# Rascunhos"
      ],
      "metadata": {
        "id": "-RChdMbuCs9I"
      }
    },
    {
      "cell_type": "code",
      "source": [],
      "metadata": {
        "id": "HfO1ZQmI0zoA"
      },
      "execution_count": null,
      "outputs": []
    }
  ]
}